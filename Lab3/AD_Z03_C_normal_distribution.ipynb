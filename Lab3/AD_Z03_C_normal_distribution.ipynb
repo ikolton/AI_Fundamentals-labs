{
 "cells": [
  {
   "cell_type": "markdown",
   "metadata": {},
   "source": [
    "# Wielowymiarowy rozkład normalny"
   ]
  },
  {
   "cell_type": "code",
   "execution_count": 1,
   "metadata": {},
   "outputs": [],
   "source": [
    "import matplotlib.pylab as plt\n",
    "import numpy as np\n",
    "from mpl_toolkits.mplot3d import Axes3D\n",
    "import matplotlib.mlab as mlab\n",
    "from matplotlib import cm\n"
   ]
  },
  {
   "cell_type": "markdown",
   "metadata": {},
   "source": [
    "# Narysujmy gęstość dwuwymiarowego rozkładu Normalnego"
   ]
  },
  {
   "cell_type": "code",
   "execution_count": null,
   "metadata": {
    "is_executing": true
   },
   "outputs": [],
   "source": [
    "import matplotlib.pyplot as plt\n",
    "import numpy as np\n",
    "import numpy.random as rnd\n",
    "import scipy.stats as stats\n",
    "from mpl_toolkits.mplot3d import Axes3D\n",
    "from scipy.stats import multivariate_normal\n",
    "mean1 = np.array([0, 0])\n",
    "cov1 = np.array([[4.40, -2.75], [-2.75,  5.50]])\n",
    "X1_rv=multivariate_normal(mean1, cov1)\n",
    "X = X1_rv.rvs(100000)\n",
    "\n",
    "plt.hist2d(X[:,0],X[:,1],bins=100)\n",
    "plt.show()"
   ]
  },
  {
   "cell_type": "markdown",
   "metadata": {},
   "source": [
    "# Narysujmy kontury gęstości dwuwymiarowego rozkładu Normalnego"
   ]
  },
  {
   "cell_type": "code",
   "execution_count": null,
   "metadata": {},
   "outputs": [],
   "source": [
    "import matplotlib.pyplot as plt\n",
    "import numpy as np\n",
    "import numpy.random as rnd\n",
    "import scipy.stats as stats\n",
    "from scipy.stats import multivariate_normal\n",
    "import seaborn as sns\n",
    "\n",
    "mean1 = np.array([0, 0])\n",
    "cov1 = np.array([[4.40, -2.75], [-2.75,  5.50]])\n",
    "X1_rv=multivariate_normal(mean1, cov1)\n",
    "X = X1_rv.rvs(1000)\n",
    "x,y=X[:,0],X[:,1]\n",
    "sns.kdeplot(x=x, y=y)\n",
    "plt.show()"
   ]
  },
  {
   "cell_type": "markdown",
   "metadata": {},
   "source": [
    "# Wylosujmy próbkę z dwuwymiarowego rozkładu Normalnego"
   ]
  },
  {
   "cell_type": "code",
   "execution_count": null,
   "metadata": {},
   "outputs": [],
   "source": [
    "import matplotlib.pyplot as plt\n",
    "import numpy as np\n",
    "import numpy.random as rnd\n",
    "import scipy.stats as stats\n",
    "from scipy.stats import multivariate_normal\n",
    "mean1 = np.array([0, 0])\n",
    "cov1 = np.array([[4.40, -2.75], [-2.75,  5.50]])\n",
    "X1_rv=multivariate_normal(mean1, cov1)\n",
    "X = X1_rv.rvs(1000)\n",
    "fig, ax = plt.subplots(nrows=1, ncols=1, figsize=(5, 5))\n",
    "ax.scatter(X[:, 0], X[:, 1])\n",
    "ax.set_xlim([-10,10])\n",
    "ax.set_ylim([-10,10])\n",
    "plt.show()"
   ]
  }
 ],
 "metadata": {
  "kernelspec": {
   "display_name": "Python 3 (ipykernel)",
   "language": "python",
   "name": "python3"
  },
  "language_info": {
   "codemirror_mode": {
    "name": "ipython",
    "version": 3
   },
   "file_extension": ".py",
   "mimetype": "text/x-python",
   "name": "python",
   "nbconvert_exporter": "python",
   "pygments_lexer": "ipython3",
   "version": "3.8.10"
  }
 },
 "nbformat": 4,
 "nbformat_minor": 4
}
